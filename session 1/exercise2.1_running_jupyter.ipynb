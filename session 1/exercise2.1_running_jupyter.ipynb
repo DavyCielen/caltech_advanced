{
  "nbformat": 4,
  "nbformat_minor": 5,
  "metadata": {
    "kernelspec": {
      "display_name": "Python 3",
      "language": "python",
      "name": "python3"
    },
    "language_info": {
      "name": "python",
      "version": ""
    }
  },
  "cells": [
    {
      "cell_type": "markdown",
      "metadata": {},
      "source": [
        "# Jupyter Notebook Tutorial\n",
        "\n",
        "Welcome to this minimal tutorial. We’ll explore how to:\n",
        "\n",
        "1. **Run a Jupyter server** from the command line,\n",
        "2. **Install** the Jupyter **extension** in Visual Studio Code (especially useful on GitHub Codespaces),\n",
        "3. **Select a kernel** to execute your cells.\n",
        "\n",
        "Feel free to adapt these instructions to your own workflow, whether you’re developing locally or in the cloud.\n"
      ]
    },
    {
      "cell_type": "markdown",
      "metadata": {},
      "source": [
        "## 1. Starting a Jupyter Server Locally\n",
        "\n",
        "In many development environments, you can start a Jupyter server directly in your terminal or command prompt by typing:\n",
        "```\n",
        "jupyter server\n",
        "```\n",
        "\n",
        "### Why `jupyter server` Instead of `jupyter notebook`?\n",
        "Historically, people used the command `jupyter notebook` to start what’s sometimes called the “classic” notebook interface. The **`jupyter server`** command is a more general approach for launching the underlying Jupyter server; from there, you can connect to it using various frontends (like JupyterLab, the classic Notebook UI, or even the VS Code extension!).\n",
        "\n",
        "### What Happens After You Launch?\n",
        "When you run `jupyter server`, it will:\n",
        "1. Start a server process locally,\n",
        "2. Open (or display) a URL in your terminal, something like: `http://localhost:8888?token=...`,\n",
        "3. You can copy/paste that URL into your web browser to open the Jupyter management page.\n",
        "\n",
        "If you prefer, you can also run:\n",
        "```\n",
        "jupyter lab\n",
        "```\n",
        "to launch the modern JupyterLab interface. The key idea is that any of these commands spin up the local Jupyter server you can connect to.\n"
      ]
    },
    {
      "cell_type": "markdown",
      "metadata": {},
      "source": [
        "## 2. Installing the Jupyter Extension in Visual Studio Code\n",
        "\n",
        "Visual Studio Code has a built-in system for managing extensions. In **GitHub Codespaces**, you have a similar setup, just in a web environment. Here’s how to install the **Jupyter extension**:\n",
        "\n",
        "1. **Open the Extensions Panel**: Look for the little square icon on the left side of VS Code (or press `Ctrl+Shift+X` on Windows/Linux, `Cmd+Shift+X` on macOS). In Codespaces, this is also on the left sidebar.\n",
        "2. **Search for “Jupyter”**: Type `Jupyter` in the search bar.\n",
        "3. **Install**: Click the `Install` button next to the Microsoft Jupyter extension.\n",
        "4. **Reload if Needed**: Sometimes you’ll have to reload the window for the new extension to be fully active.\n",
        "\n",
        "This extension allows you to:\n",
        "- Render `.ipynb` notebooks within VS Code (or Codespaces),\n",
        "- Run cells, debug code, and see outputs,\n",
        "- Switch between kernels if you have multiple Python versions or other languages installed.\n"
      ]
    },
    {
      "cell_type": "markdown",
      "metadata": {},
      "source": [
        "## 3. Selecting a Kernel in VS Code/Codespaces\n",
        "\n",
        "Once the Jupyter extension is installed, you’ll see a toolbar at the top of your notebook (or at the top-right corner of the editor). This toolbar includes a **“Select Kernel”** button or a drop-down. \n",
        "\n",
        "Here’s how to select your kernel:\n",
        "1. **Open Any `.ipynb` File**: For instance, this notebook.\n",
        "2. **Kernel Picker**: Look for something like “Select Kernel” near the top.\n",
        "3. **Choose Your Environment**: You might see several Python environments listed—like `Python 3.10`, `Python 3.8`, or even a conda environment. Pick the one you want to run in.\n",
        "\n",
        "Your kernel is essentially the Python (or other language) runtime that executes your code. If you’re using GitHub Codespaces, your environment might already have a default kernel. But if you create a new virtual environment or conda environment, you’ll see an option to switch to it here.\n"
      ]
    },
    {
      "cell_type": "markdown",
      "metadata": {},
      "source": [
        "## 4. Simple Check\n",
        "\n",
        "Let’s confirm your environment is set up. If you’re in VS Code or GitHub Codespaces, make sure you’ve selected a Python kernel (preferably the one with the modules you need), then run the cell below.\n",
        "If it prints out a line about your environment, everything is good to go!\n"
      ]
    },
    {
      "cell_type": "code",
      "metadata": {},
      "source": [
        "import sys\n",
        "print(\"Hello from Python version:\", sys.version)"
      ],
      "execution_count": null,
      "outputs": []
    },
    {
      "cell_type": "markdown",
      "metadata": {},
      "source": [
        "## 5. Recap\n",
        "\n",
        "1. **`jupyter server`** starts a Jupyter server in your terminal.\n",
        "2. To open notebooks in VS Code (or Codespaces), **install the Jupyter extension**.\n",
        "3. **Select a kernel** from the top toolbar in your notebook to pick the environment.\n",
        "\n",
        "That’s it! You’re now set up to:\n",
        "\n",
        "- Launch your own Jupyter server,\n",
        "- Work with `.ipynb` files in VS Code or Codespaces,\n",
        "- Choose the right Python environment for your tasks.\n"
      ]
    }
  ]
}
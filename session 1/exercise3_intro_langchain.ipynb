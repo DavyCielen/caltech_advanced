{
 "cells": [
  {
   "cell_type": "markdown",
   "metadata": {},
   "source": [
    "# Integrating LangChain with OpenAI's GPT-3.5-turbo\n",
    "\n",
    "In this notebook, we'll explore how to use the LangChain framework to interact with OpenAI's GPT-3.5-turbo model. LangChain provides a streamlined interface for prompt management, model interaction, and output parsing, making it easier to build applications that leverage large language models."
   ]
  },
  {
   "cell_type": "markdown",
   "metadata": {},
   "source": [
    "## 1. Installation\n",
    "\n",
    "First, we need to install the necessary packages. Run the following commands to install `langchain-openai` and its dependencies."
   ]
  },
  {
   "cell_type": "code",
   "execution_count": 13,
   "metadata": {},
   "outputs": [
    {
     "name": "stdout",
     "output_type": "stream",
     "text": [
      "Requirement already satisfied: langchain-openai in /Users/Davy/Library/Caches/pypoetry/virtualenvs/davy-PIAAdT6P-py3.11/lib/python3.11/site-packages (0.3.3)\n",
      "Requirement already satisfied: openai in /Users/Davy/Library/Caches/pypoetry/virtualenvs/davy-PIAAdT6P-py3.11/lib/python3.11/site-packages (1.60.2)\n",
      "Requirement already satisfied: langchain in /Users/Davy/Library/Caches/pypoetry/virtualenvs/davy-PIAAdT6P-py3.11/lib/python3.11/site-packages (0.3.17)\n",
      "Requirement already satisfied: langchain-core<0.4.0,>=0.3.33 in /Users/Davy/Library/Caches/pypoetry/virtualenvs/davy-PIAAdT6P-py3.11/lib/python3.11/site-packages (from langchain-openai) (0.3.33)\n",
      "Requirement already satisfied: tiktoken<1,>=0.7 in /Users/Davy/Library/Caches/pypoetry/virtualenvs/davy-PIAAdT6P-py3.11/lib/python3.11/site-packages (from langchain-openai) (0.8.0)\n",
      "Requirement already satisfied: anyio<5,>=3.5.0 in /Users/Davy/Library/Caches/pypoetry/virtualenvs/davy-PIAAdT6P-py3.11/lib/python3.11/site-packages (from openai) (4.2.0)\n",
      "Requirement already satisfied: distro<2,>=1.7.0 in /Users/Davy/Library/Caches/pypoetry/virtualenvs/davy-PIAAdT6P-py3.11/lib/python3.11/site-packages (from openai) (1.9.0)\n",
      "Requirement already satisfied: httpx<1,>=0.23.0 in /Users/Davy/Library/Caches/pypoetry/virtualenvs/davy-PIAAdT6P-py3.11/lib/python3.11/site-packages (from openai) (0.28.1)\n",
      "Requirement already satisfied: jiter<1,>=0.4.0 in /Users/Davy/Library/Caches/pypoetry/virtualenvs/davy-PIAAdT6P-py3.11/lib/python3.11/site-packages (from openai) (0.8.2)\n",
      "Requirement already satisfied: pydantic<3,>=1.9.0 in /Users/Davy/Library/Caches/pypoetry/virtualenvs/davy-PIAAdT6P-py3.11/lib/python3.11/site-packages (from openai) (2.10.6)\n",
      "Requirement already satisfied: sniffio in /Users/Davy/Library/Caches/pypoetry/virtualenvs/davy-PIAAdT6P-py3.11/lib/python3.11/site-packages (from openai) (1.3.0)\n",
      "Requirement already satisfied: tqdm>4 in /Users/Davy/Library/Caches/pypoetry/virtualenvs/davy-PIAAdT6P-py3.11/lib/python3.11/site-packages (from openai) (4.67.1)\n",
      "Requirement already satisfied: typing-extensions<5,>=4.11 in /Users/Davy/Library/Caches/pypoetry/virtualenvs/davy-PIAAdT6P-py3.11/lib/python3.11/site-packages (from openai) (4.12.2)\n",
      "Requirement already satisfied: PyYAML>=5.3 in /Users/Davy/Library/Caches/pypoetry/virtualenvs/davy-PIAAdT6P-py3.11/lib/python3.11/site-packages (from langchain) (6.0.1)\n",
      "Requirement already satisfied: SQLAlchemy<3,>=1.4 in /Users/Davy/Library/Caches/pypoetry/virtualenvs/davy-PIAAdT6P-py3.11/lib/python3.11/site-packages (from langchain) (2.0.36)\n",
      "Requirement already satisfied: aiohttp<4.0.0,>=3.8.3 in /Users/Davy/Library/Caches/pypoetry/virtualenvs/davy-PIAAdT6P-py3.11/lib/python3.11/site-packages (from langchain) (3.11.11)\n",
      "Requirement already satisfied: langchain-text-splitters<0.4.0,>=0.3.3 in /Users/Davy/Library/Caches/pypoetry/virtualenvs/davy-PIAAdT6P-py3.11/lib/python3.11/site-packages (from langchain) (0.3.5)\n",
      "Requirement already satisfied: langsmith<0.4,>=0.1.17 in /Users/Davy/Library/Caches/pypoetry/virtualenvs/davy-PIAAdT6P-py3.11/lib/python3.11/site-packages (from langchain) (0.3.3)\n",
      "Requirement already satisfied: numpy<2,>=1.22.4 in /Users/Davy/Library/Caches/pypoetry/virtualenvs/davy-PIAAdT6P-py3.11/lib/python3.11/site-packages (from langchain) (1.24.4)\n",
      "Requirement already satisfied: requests<3,>=2 in /Users/Davy/Library/Caches/pypoetry/virtualenvs/davy-PIAAdT6P-py3.11/lib/python3.11/site-packages (from langchain) (2.31.0)\n",
      "Requirement already satisfied: tenacity!=8.4.0,<10,>=8.1.0 in /Users/Davy/Library/Caches/pypoetry/virtualenvs/davy-PIAAdT6P-py3.11/lib/python3.11/site-packages (from langchain) (8.2.3)\n",
      "Requirement already satisfied: aiohappyeyeballs>=2.3.0 in /Users/Davy/Library/Caches/pypoetry/virtualenvs/davy-PIAAdT6P-py3.11/lib/python3.11/site-packages (from aiohttp<4.0.0,>=3.8.3->langchain) (2.4.4)\n",
      "Requirement already satisfied: aiosignal>=1.1.2 in /Users/Davy/Library/Caches/pypoetry/virtualenvs/davy-PIAAdT6P-py3.11/lib/python3.11/site-packages (from aiohttp<4.0.0,>=3.8.3->langchain) (1.3.2)\n",
      "Requirement already satisfied: attrs>=17.3.0 in /Users/Davy/Library/Caches/pypoetry/virtualenvs/davy-PIAAdT6P-py3.11/lib/python3.11/site-packages (from aiohttp<4.0.0,>=3.8.3->langchain) (23.2.0)\n",
      "Requirement already satisfied: frozenlist>=1.1.1 in /Users/Davy/Library/Caches/pypoetry/virtualenvs/davy-PIAAdT6P-py3.11/lib/python3.11/site-packages (from aiohttp<4.0.0,>=3.8.3->langchain) (1.5.0)\n",
      "Requirement already satisfied: multidict<7.0,>=4.5 in /Users/Davy/Library/Caches/pypoetry/virtualenvs/davy-PIAAdT6P-py3.11/lib/python3.11/site-packages (from aiohttp<4.0.0,>=3.8.3->langchain) (6.1.0)\n",
      "Requirement already satisfied: propcache>=0.2.0 in /Users/Davy/Library/Caches/pypoetry/virtualenvs/davy-PIAAdT6P-py3.11/lib/python3.11/site-packages (from aiohttp<4.0.0,>=3.8.3->langchain) (0.2.1)\n",
      "Requirement already satisfied: yarl<2.0,>=1.17.0 in /Users/Davy/Library/Caches/pypoetry/virtualenvs/davy-PIAAdT6P-py3.11/lib/python3.11/site-packages (from aiohttp<4.0.0,>=3.8.3->langchain) (1.18.3)\n",
      "Requirement already satisfied: idna>=2.8 in /Users/Davy/Library/Caches/pypoetry/virtualenvs/davy-PIAAdT6P-py3.11/lib/python3.11/site-packages (from anyio<5,>=3.5.0->openai) (3.6)\n",
      "Requirement already satisfied: certifi in /Users/Davy/Library/Caches/pypoetry/virtualenvs/davy-PIAAdT6P-py3.11/lib/python3.11/site-packages (from httpx<1,>=0.23.0->openai) (2023.11.17)\n",
      "Requirement already satisfied: httpcore==1.* in /Users/Davy/Library/Caches/pypoetry/virtualenvs/davy-PIAAdT6P-py3.11/lib/python3.11/site-packages (from httpx<1,>=0.23.0->openai) (1.0.7)\n",
      "Requirement already satisfied: h11<0.15,>=0.13 in /Users/Davy/Library/Caches/pypoetry/virtualenvs/davy-PIAAdT6P-py3.11/lib/python3.11/site-packages (from httpcore==1.*->httpx<1,>=0.23.0->openai) (0.14.0)\n",
      "Requirement already satisfied: jsonpatch<2.0,>=1.33 in /Users/Davy/Library/Caches/pypoetry/virtualenvs/davy-PIAAdT6P-py3.11/lib/python3.11/site-packages (from langchain-core<0.4.0,>=0.3.33->langchain-openai) (1.33)\n",
      "Requirement already satisfied: packaging<25,>=23.2 in /Users/Davy/Library/Caches/pypoetry/virtualenvs/davy-PIAAdT6P-py3.11/lib/python3.11/site-packages (from langchain-core<0.4.0,>=0.3.33->langchain-openai) (23.2)\n",
      "Requirement already satisfied: orjson<4.0.0,>=3.9.14 in /Users/Davy/Library/Caches/pypoetry/virtualenvs/davy-PIAAdT6P-py3.11/lib/python3.11/site-packages (from langsmith<0.4,>=0.1.17->langchain) (3.10.15)\n",
      "Requirement already satisfied: requests-toolbelt<2.0.0,>=1.0.0 in /Users/Davy/Library/Caches/pypoetry/virtualenvs/davy-PIAAdT6P-py3.11/lib/python3.11/site-packages (from langsmith<0.4,>=0.1.17->langchain) (1.0.0)\n",
      "Requirement already satisfied: zstandard<0.24.0,>=0.23.0 in /Users/Davy/Library/Caches/pypoetry/virtualenvs/davy-PIAAdT6P-py3.11/lib/python3.11/site-packages (from langsmith<0.4,>=0.1.17->langchain) (0.23.0)\n",
      "Requirement already satisfied: annotated-types>=0.6.0 in /Users/Davy/Library/Caches/pypoetry/virtualenvs/davy-PIAAdT6P-py3.11/lib/python3.11/site-packages (from pydantic<3,>=1.9.0->openai) (0.7.0)\n",
      "Requirement already satisfied: pydantic-core==2.27.2 in /Users/Davy/Library/Caches/pypoetry/virtualenvs/davy-PIAAdT6P-py3.11/lib/python3.11/site-packages (from pydantic<3,>=1.9.0->openai) (2.27.2)\n",
      "Requirement already satisfied: charset-normalizer<4,>=2 in /Users/Davy/Library/Caches/pypoetry/virtualenvs/davy-PIAAdT6P-py3.11/lib/python3.11/site-packages (from requests<3,>=2->langchain) (3.3.2)\n",
      "Requirement already satisfied: urllib3<3,>=1.21.1 in /Users/Davy/Library/Caches/pypoetry/virtualenvs/davy-PIAAdT6P-py3.11/lib/python3.11/site-packages (from requests<3,>=2->langchain) (2.1.0)\n",
      "Requirement already satisfied: regex>=2022.1.18 in /Users/Davy/Library/Caches/pypoetry/virtualenvs/davy-PIAAdT6P-py3.11/lib/python3.11/site-packages (from tiktoken<1,>=0.7->langchain-openai) (2024.11.6)\n",
      "Requirement already satisfied: jsonpointer>=1.9 in /Users/Davy/Library/Caches/pypoetry/virtualenvs/davy-PIAAdT6P-py3.11/lib/python3.11/site-packages (from jsonpatch<2.0,>=1.33->langchain-core<0.4.0,>=0.3.33->langchain-openai) (2.4)\n",
      "\n",
      "\u001b[1m[\u001b[0m\u001b[34;49mnotice\u001b[0m\u001b[1;39;49m]\u001b[0m\u001b[39;49m A new release of pip is available: \u001b[0m\u001b[31;49m23.3.1\u001b[0m\u001b[39;49m -> \u001b[0m\u001b[32;49m25.0\u001b[0m\n",
      "\u001b[1m[\u001b[0m\u001b[34;49mnotice\u001b[0m\u001b[1;39;49m]\u001b[0m\u001b[39;49m To update, run: \u001b[0m\u001b[32;49mpip install --upgrade pip\u001b[0m\n"
     ]
    }
   ],
   "source": [
    "!pip install langchain-openai openai langchain"
   ]
  },
  {
   "cell_type": "markdown",
   "metadata": {},
   "source": [
    "## 2. Importing Required Libraries\n",
    "\n",
    "We'll import the necessary classes from the `langchain` and `langchain_openai` packages, as well as the `os` module to manage environment variables."
   ]
  },
  {
   "cell_type": "code",
   "execution_count": 6,
   "metadata": {},
   "outputs": [],
   "source": [
    "from langchain_core.prompts import PromptTemplate\n",
    "from langchain_core.output_parsers import StrOutputParser\n",
    "from langchain_openai import ChatOpenAI\n",
    "import os"
   ]
  },
  {
   "cell_type": "markdown",
   "metadata": {},
   "source": [
    "## 3. Setting Up the OpenAI API Key\n",
    "\n",
    "To authenticate with the OpenAI API, you'll need to set your API key as an environment variable. Replace `'your-api-key'` with your actual OpenAI API key."
   ]
  },
  {
   "cell_type": "code",
   "execution_count": 7,
   "metadata": {},
   "outputs": [],
   "source": [
    "# Set up OpenAI API Key\n",
    "os.environ[\"OPENAI_API_KEY\"] = \"<your api key>\""
   ]
  },
  {
   "cell_type": "markdown",
   "metadata": {},
   "source": [
    "## 4. Defining the Prompt Template\n",
    "\n",
    "We'll create a prompt template that instructs the model to explain a given topic in simple terms. The `{topic}` placeholder will be dynamically replaced with the actual topic during execution."
   ]
  },
  {
   "cell_type": "code",
   "execution_count": 8,
   "metadata": {},
   "outputs": [],
   "source": [
    "# Define a simple prompt template\n",
    "prompt = PromptTemplate.from_template(\"Explain {topic} in simple terms.\")"
   ]
  },
  {
   "cell_type": "markdown",
   "metadata": {},
   "source": [
    "## 5. Initializing the OpenAI Chat Model\n",
    "\n",
    "We'll initialize the `ChatOpenAI` class with the `gpt-3.5-turbo` model. This class handles interactions with the OpenAI API."
   ]
  },
  {
   "cell_type": "code",
   "execution_count": 9,
   "metadata": {},
   "outputs": [],
   "source": [
    "# Initialize the OpenAI chat model\n",
    "llm = ChatOpenAI(model=\"gpt-3.5-turbo\")"
   ]
  },
  {
   "cell_type": "markdown",
   "metadata": {},
   "source": [
    "## 6. Creating the Processing Chain\n",
    "\n",
    "We'll combine the prompt template, the language model, and the output parser into a processing chain using the `|` operator. This chain will handle the flow of data from prompt generation to model response parsing."
   ]
  },
  {
   "cell_type": "code",
   "execution_count": 10,
   "metadata": {},
   "outputs": [],
   "source": [
    "# Combine the prompt and LLM into a runnable sequence\n",
    "chain = prompt | llm | StrOutputParser()"
   ]
  },
  {
   "cell_type": "markdown",
   "metadata": {},
   "source": [
    "## 7. Running the Chain with an Example Topic\n",
    "\n",
    "We'll execute the chain with a specific topic, such as \"machine learning.\" The chain will generate a prompt, pass it to the model, and parse the response."
   ]
  },
  {
   "cell_type": "code",
   "execution_count": 11,
   "metadata": {},
   "outputs": [],
   "source": [
    "# Run the chain with an example topic\n",
    "response = chain.invoke({\"topic\": \"machine learning\"})"
   ]
  },
  {
   "cell_type": "markdown",
   "metadata": {},
   "source": [
    "## 8. Displaying the Generated Response\n",
    "\n",
    "Finally, we'll print the model's response to the console."
   ]
  },
  {
   "cell_type": "code",
   "execution_count": 12,
   "metadata": {},
   "outputs": [
    {
     "name": "stdout",
     "output_type": "stream",
     "text": [
      "\n",
      "Generated Response:\n",
      "\n",
      "Machine learning is a type of artificial intelligence that allows computers to learn and make decisions without being explicitly programmed. It works by finding patterns in data and using them to make predictions or decisions. Basically, the computer learns from past experiences and uses that knowledge to perform tasks on its own, without human intervention.\n"
     ]
    }
   ],
   "source": [
    "# Print the response\n",
    "print(\"\\nGenerated Response:\\n\")\n",
    "print(response)"
   ]
  },
  {
   "cell_type": "markdown",
   "metadata": {},
   "source": [
    "# Exercise\n",
    "Assignment: AI Agent for Logistics Route Optimization\n",
    "\n",
    "Objective\n",
    "\n",
    "Modify the existing LangChain example to create an AI agent that suggests optimized delivery routes for a logistics company. The AI should consider distance, delays, and alternative routes to ensure efficient supply chain management."
   ]
  },
  {
   "cell_type": "code",
   "execution_count": null,
   "metadata": {},
   "outputs": [],
   "source": [
    "# up to you :D\n"
   ]
  }
 ],
 "metadata": {
  "kernelspec": {
   "display_name": "Python 3",
   "language": "python",
   "name": "python3"
  },
  "language_info": {
   "codemirror_mode": {
    "name": "ipython",
    "version": 3
   },
   "file_extension": ".py",
   "mimetype": "text/x-python",
   "name": "python",
   "nbconvert_exporter": "python",
   "pygments_lexer": "ipython3",
   "version": "3.8.10"
  }
 },
 "nbformat": 4,
 "nbformat_minor": 4
}

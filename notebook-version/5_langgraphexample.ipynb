{
 "cells": [
  {
   "cell_type": "markdown",
   "metadata": {},
   "source": [
    "# Import things"
   ]
  },
  {
   "cell_type": "code",
   "execution_count": null,
   "metadata": {},
   "outputs": [],
   "source": [
    "import os\n",
    "import openai\n",
    "\n",
    "from langchain_openai import ChatOpenAI\n",
    "from langgraph.prebuilt import create_react_agent\n",
    "from langgraph.checkpoint.memory import MemorySaver\n",
    "from langgraph.graph import StateGraph, START\n",
    "from typing import TypedDict"
   ]
  },
  {
   "cell_type": "code",
   "execution_count": null,
   "metadata": {},
   "outputs": [],
   "source": [
    "# If needed, set your OpenAI API key:\n",
    "# os.environ[\"OPENAI_API_KEY\"] = \"<YOUR_KEY>\""
   ]
  },
  {
   "cell_type": "markdown",
   "metadata": {},
   "source": [
    "# Define our shared state of SupplyChain\n",
    "Explain: through this global state, agents will know what is going on "
   ]
  },
  {
   "cell_type": "code",
   "execution_count": null,
   "metadata": {},
   "outputs": [],
   "source": [
    "class SupplyChainState(TypedDict):\n",
    "    # We keep a conversation log plus a \"stock_level\" key for demonstration\n",
    "    messages: list\n",
    "    stock_level: int"
   ]
  },
  {
   "cell_type": "markdown",
   "metadata": {},
   "source": [
    "# Create agents"
   ]
  },
  {
   "cell_type": "markdown",
   "metadata": {},
   "source": [
    "## Create Two Specialized Agents (stock and delivery)."
   ]
  },
  {
   "cell_type": "code",
   "execution_count": null,
   "metadata": {},
   "outputs": [],
   "source": [
    "def check_stock_tool(stock_level: int) -> str:\n",
    "    \"\"\"\n",
    "    Simple 'tool' that just returns a string about our stock level.\n",
    "    This might be part of a real 'StockAgent' in practice.\n",
    "    \"\"\"\n",
    "    if stock_level > 0:\n",
    "        return f\"[StockAgent] We have {stock_level} items in stock.\"\n",
    "    else:\n",
    "        return \"[StockAgent] Out of stock!\""
   ]
  },
  {
   "cell_type": "code",
   "execution_count": null,
   "metadata": {},
   "outputs": [],
   "source": [
    "def schedule_delivery_tool(order_id: str) -> str:\n",
    "    \"\"\"\n",
    "    A 'DeliveryAgent' tool that confirms scheduling if we have items.\n",
    "    \"\"\"\n",
    "    return f\"[DeliveryAgent] Delivery scheduled for order {order_id}\""
   ]
  },
  {
   "cell_type": "markdown",
   "metadata": {},
   "source": [
    "# Building agents\n",
    "Build Each Sub-Agent Using ReAct for Single-Step\n",
    "(Though each is just a single tool for demonstration)."
   ]
  },
  {
   "cell_type": "code",
   "execution_count": null,
   "metadata": {},
   "outputs": [],
   "source": [
    "llm_stock = ChatOpenAI(model=\"gpt-3.5-turbo\", temperature=0)\n",
    "stock_agent = create_react_agent(model=llm_stock, tools=[check_stock_tool])\n",
    "\n",
    "llm_delivery = ChatOpenAI(model=\"gpt-3.5-turbo\", temperature=0)\n",
    "delivery_agent = create_react_agent(model=llm_delivery, tools=[schedule_delivery_tool])"
   ]
  },
  {
   "cell_type": "markdown",
   "metadata": {},
   "source": [
    "## The CoordinatingAgent: A Simple Node that Decides Which Sub-Agent to Call"
   ]
  },
  {
   "cell_type": "code",
   "execution_count": null,
   "metadata": {},
   "outputs": [],
   "source": [
    "def coordinator_node(state: SupplyChainState):\n",
    "    \"\"\"\n",
    "    The coordinator node checks if we have stock. If no stock, it calls the stock agent\n",
    "    to confirm 'Out of stock!' Then updates the stock. Next, it calls the delivery agent \n",
    "    to schedule an order.\n",
    "    \"\"\"\n",
    "    # 1) First call the stock sub-agent:\n",
    "    # We imagine user wants to see how many are in stock\n",
    "    result_1 = stock_agent.invoke(\n",
    "        {\"messages\": state[\"messages\"], \"stock_level\": state[\"stock_level\"]},\n",
    "        config={\"configurable\": {\"thread_id\": \"example\"}}\n",
    "    )\n",
    "    # Merge the output back into our state's messages.\n",
    "    # The sub-agent typically returns a final text or tool output as a string\n",
    "    # for demonstration, let's store it.\n",
    "    msg_1 = result_1[\"messages\"][-1].content  # The last message from the sub-agent\n",
    "    # For demonstration, if out of stock, we \"restock\" it:\n",
    "    if \"Out of stock\" in msg_1:\n",
    "        state[\"stock_level\"] = 10  # we restock\n",
    "\n",
    "    # 2) Then call the delivery sub-agent:\n",
    "    result_2 = delivery_agent.invoke(\n",
    "        {\"messages\": state[\"messages\"], \"order_id\": \"#1234\"},\n",
    "        config={\"configurable\": {\"thread_id\": \"example\"}}\n",
    "    )\n",
    "    msg_2 = result_2[\"messages\"][-1].content\n",
    "\n",
    "    # Combine results into a single final message\n",
    "    final_message = f\"{msg_1}\\n{msg_2}\"\n",
    "    # We'll update the 'messages' in state with a new AI message:\n",
    "    new_state = {\n",
    "        \"messages\": state[\"messages\"] + [final_message],\n",
    "        \"stock_level\": state[\"stock_level\"]\n",
    "    }\n",
    "    return new_state"
   ]
  },
  {
   "cell_type": "markdown",
   "metadata": {},
   "source": [
    "## Build a Simple Graph with a Single Node for Our Coordinator."
   ]
  },
  {
   "cell_type": "code",
   "execution_count": null,
   "metadata": {},
   "outputs": [],
   "source": [
    "builder = StateGraph(SupplyChainState)\n",
    "builder.add_node(\"coordinator\", coordinator_node)\n",
    "builder.add_edge(START, \"coordinator\")\n",
    "\n",
    "memory = MemorySaver()  # We'll keep state across multiple runs\n",
    "graph = builder.compile(checkpointer=memory)"
   ]
  },
  {
   "cell_type": "code",
   "execution_count": null,
   "metadata": {},
   "outputs": [],
   "source": [
    "def run_example():\n",
    "    initial_state = {\n",
    "        \"messages\": [\"User wants to check stock then schedule a delivery.\"],\n",
    "        \"stock_level\": 0\n",
    "    }\n",
    "    config = {\"configurable\": {\"thread_id\": \"supply_thread\"}}\n",
    "\n",
    "    output = graph.invoke(initial_state, config=config)\n",
    "    print(\"=== Final Output ===\")\n",
    "    print(\"Messages:\", output[\"messages\"])\n",
    "    print(\"Stock level:\", output[\"stock_level\"])"
   ]
  },
  {
   "cell_type": "code",
   "execution_count": null,
   "metadata": {},
   "outputs": [],
   "source": [
    "run_example()"
   ]
  }
 ],
 "metadata": {
  "language_info": {
   "name": "python"
  }
 },
 "nbformat": 4,
 "nbformat_minor": 2
}

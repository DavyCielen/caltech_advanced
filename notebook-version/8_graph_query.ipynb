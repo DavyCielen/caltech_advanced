{
 "cells": [
  {
   "cell_type": "markdown",
   "metadata": {},
   "source": [
    "# Import things"
   ]
  },
  {
   "cell_type": "code",
   "execution_count": null,
   "metadata": {},
   "outputs": [],
   "source": [
    "import os\n",
    "import openai\n",
    "import requests\n",
    "from langchain_openai import ChatOpenAI\n",
    "from langchain.agents import Tool, initialize_agent, AgentType"
   ]
  },
  {
   "cell_type": "markdown",
   "metadata": {},
   "source": [
    "# Define query tool"
   ]
  },
  {
   "cell_type": "code",
   "execution_count": null,
   "metadata": {},
   "outputs": [],
   "source": [
    "def wikidata_query_tool(sparql_query: str) -> str:\n",
    "    '''\n",
    "    Tool to run SPARQL queries on Wikidata. Input must be a SPARQL query string.\n",
    "    dont use backticks or triple quotes.\n",
    "    '''\n",
    "    url = \"https://query.wikidata.org/sparql\"\n",
    "    headers = {\"Accept\": \"application/sparql-results+json\"}\n",
    "    response = requests.get(url, params={\"query\": sparql_query}, headers=headers)\n",
    "\n",
    "    if not response.ok:\n",
    "        return f\"[Error] SPARQL query failed: {response.text}\"\n",
    "\n",
    "    data = response.json()\n",
    "    print(data)\n",
    "    return data\n",
    "\n",
    "\n",
    "wikidata_tool = Tool(\n",
    "    name=\"WikidataQuery\",\n",
    "    func=wikidata_query_tool,\n",
    "    description=(\n",
    "        \"Use this tool to run SPARQL queries on Wikidata. Input must be a SPARQL query string. avoid bcakticks or triple quotes. Look up IDS when needed\"\n",
    "        \"It returns a textual summary of the results.\"\n",
    "        \"ensure valid SPARQL syntax and avoid long-running queries.\"\n",
    "        # \"enclose the query in triple quotes for multi-line queries, but dont use ``` or similar.\"\n",
    "        \"dont write sparql: before the query. Directly write the query.\"\n",
    "        \"dont use backticks or triple quotes.\"\n",
    "        ),\n",
    ")"
   ]
  },
  {
   "cell_type": "markdown",
   "metadata": {},
   "source": [
    "# Define function to create wikidata"
   ]
  },
  {
   "cell_type": "code",
   "execution_count": null,
   "metadata": {},
   "outputs": [],
   "source": [
    "def create_wikidata_agent():\n",
    "    \"\"\"\n",
    "    Creates a Zero-Shot ReAct style agent, with handle_parsing_errors=True \n",
    "    so it attempts to fix or retry if the LLM returns invalid ReAct text.\n",
    "    \"\"\"\n",
    "    llm = ChatOpenAI(model_name=\"gpt-4o\", temperature=0)\n",
    "    tools = [wikidata_tool]\n",
    "\n",
    "    # The magic is adding `handle_parsing_errors=True` to let the agent \n",
    "    # recover from unparseable text:\n",
    "    agent = initialize_agent(\n",
    "        tools=tools,\n",
    "        llm=llm,\n",
    "        agent=AgentType.ZERO_SHOT_REACT_DESCRIPTION,\n",
    "        verbose=True,\n",
    "        handle_parsing_errors=True\n",
    "    )\n",
    "    return agent"
   ]
  },
  {
   "cell_type": "markdown",
   "metadata": {},
   "source": [
    "# Init an agent and query"
   ]
  },
  {
   "cell_type": "code",
   "execution_count": null,
   "metadata": {},
   "outputs": [],
   "source": [
    "agent = create_wikidata_agent()\n",
    "\n",
    "#example question\n",
    "\n",
    "# question = (\n",
    "#     \"Find all official languages in Belgium and switzerland using Wikidata. \"\n",
    "#     \"Return their labels and relevant IDs.\"\n",
    "# )\n",
    "\n",
    "# ask user input to get the questions\n",
    "question = input(\"Enter the question: \")\n",
    "\n",
    "print(\"\\n=== Agent's Answer ===\")\n",
    "try:\n",
    "    response = agent.invoke(question)\n",
    "    print(response)\n",
    "except Exception as e:\n",
    "    print(\"[Error] Something else happened:\", e)"
   ]
  }
 ],
 "metadata": {
  "language_info": {
   "name": "python"
  }
 },
 "nbformat": 4,
 "nbformat_minor": 2
}

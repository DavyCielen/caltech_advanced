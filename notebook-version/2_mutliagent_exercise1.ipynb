{
 "cells": [
  {
   "cell_type": "markdown",
   "metadata": {},
   "source": [
    "# Import things"
   ]
  },
  {
   "cell_type": "code",
   "execution_count": null,
   "metadata": {},
   "outputs": [],
   "source": [
    "import os\n",
    "import openai\n",
    "\n",
    "from langchain_openai import ChatOpenAI\n",
    "from langgraph.prebuilt import create_react_agent\n",
    "from langchain_core.tools import tool"
   ]
  },
  {
   "cell_type": "code",
   "execution_count": null,
   "metadata": {},
   "outputs": [],
   "source": [
    "# OPTIONAL: set your OPENAI_API_KEY here for demonstration\n",
    "# os.environ[\"OPENAI_API_KEY\"] = \"<YOUR_OPENAI_KEY>\""
   ]
  },
  {
   "cell_type": "code",
   "execution_count": null,
   "metadata": {},
   "outputs": [],
   "source": [
    "# 1. Mock Supply Chain Data\n",
    "WAREHOUSE_STOCK = {\"widget-a\": 20, \"widget-b\": 0, \"widget-c\": 100}\n",
    "OUTBOUND_ORDERS = []"
   ]
  },
  {
   "cell_type": "markdown",
   "metadata": {},
   "source": [
    "# Define Tools\n",
    "Thinks of it like the \"goals\" that we want the agent to do for us. We won't need to hardcode anymore. We just guide the agent to do it for us"
   ]
  },
  {
   "cell_type": "code",
   "execution_count": null,
   "metadata": {},
   "outputs": [],
   "source": [
    "@tool\n",
    "def check_stock(item: str) -> str:\n",
    "    \"\"\"\n",
    "    Checks the current stock for a given item.\n",
    "\n",
    "    :param item: e.g., \"widget-a\"\n",
    "    :return: A message indicating in-stock or out-of-stock.\n",
    "    \"\"\"\n",
    "    key = item.lower()\n",
    "    qty = WAREHOUSE_STOCK.get(key, 0)\n",
    "    if qty > 0:\n",
    "        return f\"[Stock] '{item}' in stock: {qty} units.\"\n",
    "    else:\n",
    "        return f\"[Stock] '{item}' is out of stock.\""
   ]
  },
  {
   "cell_type": "code",
   "execution_count": null,
   "metadata": {},
   "outputs": [],
   "source": [
    "@tool\n",
    "def check_stock(item: str) -> str:\n",
    "    \"\"\"\n",
    "    Checks the current stock for a given item.\n",
    "\n",
    "    :param item: e.g., \"widget-a\"\n",
    "    :return: A message indicating in-stock or out-of-stock.\n",
    "    \"\"\"\n",
    "    key = item.lower()\n",
    "    qty = WAREHOUSE_STOCK.get(key, 0)\n",
    "    if qty > 0:\n",
    "        return f\"[Stock] '{item}' in stock: {qty} units.\"\n",
    "    else:\n",
    "        return f\"[Stock] '{item}' is out of stock.\""
   ]
  },
  {
   "cell_type": "code",
   "execution_count": null,
   "metadata": {},
   "outputs": [],
   "source": [
    "@tool\n",
    "def update_stock(item_qty: str) -> str:\n",
    "    \"\"\"\n",
    "    Updates the stock by adding some quantity.\n",
    "\n",
    "    :param item_qty: A string like \"widget-b, 50\"\n",
    "    :return: Confirmation or error message.\n",
    "    \"\"\"\n",
    "    try:\n",
    "        it, qty_str = item_qty.split(\",\")\n",
    "        it = it.strip().lower()\n",
    "        qty = int(qty_str.strip())\n",
    "        WAREHOUSE_STOCK[it] = WAREHOUSE_STOCK.get(it, 0) + qty\n",
    "        return f\"[Stock] Successfully added {qty} units of '{it}'.\"\n",
    "    except Exception as e:\n",
    "        return f\"[Stock] Update error: {e}\""
   ]
  },
  {
   "cell_type": "code",
   "execution_count": null,
   "metadata": {},
   "outputs": [],
   "source": [
    "@tool\n",
    "def schedule_delivery(order_id: str) -> str:\n",
    "    \"\"\"\n",
    "    Schedules a delivery for a given order ID.\n",
    "\n",
    "    :param order_id: e.g., \"#12345\"\n",
    "    :return: A message confirming the scheduled delivery or missing ID.\n",
    "    \"\"\"\n",
    "    if not order_id:\n",
    "        return \"[Delivery] Missing order ID.\"\n",
    "    OUTBOUND_ORDERS.append(order_id)\n",
    "    return f\"[Delivery] Scheduled shipment for order '{order_id}'.\""
   ]
  },
  {
   "cell_type": "code",
   "execution_count": null,
   "metadata": {},
   "outputs": [],
   "source": [
    "@tool\n",
    "def estimate_shipping_cost(args: str) -> str:\n",
    "    \"\"\"\n",
    "    Mock cost estimation. Expects \"widget-a, distance=100\"\n",
    "\n",
    "    :param args: e.g. \"widget-a, distance=100\"\n",
    "    :return: A cost estimate message.\n",
    "    \"\"\"\n",
    "    try:\n",
    "        parts = args.split(\",\")\n",
    "        item_str = parts[0].strip().lower()\n",
    "        distance_info = parts[1].strip().lower()  # e.g. distance=100\n",
    "        dist_val = int(distance_info.split(\"=\")[1])\n",
    "        cost = dist_val * 0.5  # Some silly formula\n",
    "        return f\"[Delivery] Estimated cost for shipping '{item_str}' over {dist_val} km: ${cost:.2f}\"\n",
    "    except Exception as e:\n",
    "        return f\"[Delivery] Cost estimation error: {e}\""
   ]
  },
  {
   "cell_type": "code",
   "execution_count": null,
   "metadata": {},
   "outputs": [],
   "source": [
    "@tool\n",
    "def check_urgency(args: str) -> str:\n",
    "    \"\"\"\n",
    "    Basic 'theory of mind' approach. Expects 'urgent=yes, item=widget-b'\n",
    "    and returns how to handle if urgent.\n",
    "\n",
    "    :param args: e.g., \"urgent=yes, item=widget-b\"\n",
    "    :return: A message describing urgency handling.\n",
    "    \"\"\"\n",
    "    urgent = False\n",
    "    item = None\n",
    "    segments = [seg.strip() for seg in args.split(\",\")]\n",
    "    for seg in segments:\n",
    "        if \"=\" in seg:\n",
    "            k, v = seg.split(\"=\")\n",
    "            if k.strip().lower() == \"urgent\" and v.strip().lower() in (\"yes\", \"true\"):\n",
    "                urgent = True\n",
    "            elif k.strip().lower() == \"item\":\n",
    "                item = v.strip().lower()\n",
    "\n",
    "    if urgent and item:\n",
    "        return (f\"[Priority] The other agent treats '{item}' as urgent. \"\n",
    "                \"We should expedite handling or coordinate carefully.\")\n",
    "    else:\n",
    "        return \"[Priority] No special urgency found.\""
   ]
  },
  {
   "cell_type": "markdown",
   "metadata": {},
   "source": [
    "# Create our agents"
   ]
  },
  {
   "cell_type": "code",
   "execution_count": null,
   "metadata": {},
   "outputs": [],
   "source": [
    "def create_agents():\n",
    "    # Each agent uses model=\"gpt-4o\"\n",
    "    llm_stock = ChatOpenAI(model=\"gpt-4o\", temperature=0)\n",
    "    llm_delivery = ChatOpenAI(model=\"gpt-4o\", temperature=0)\n",
    "    llm_priority = ChatOpenAI(model=\"gpt-4o\", temperature=0)\n",
    "\n",
    "    # StockAgent -> Tools for stock checks and updates\n",
    "    stock_agent = create_react_agent(\n",
    "        model=llm_stock,\n",
    "        tools=[check_stock, update_stock]\n",
    "    )\n",
    "\n",
    "    # DeliveryAgent -> Tools for scheduling and cost estimates\n",
    "    delivery_agent = create_react_agent(\n",
    "        model=llm_delivery,\n",
    "        tools=[schedule_delivery, estimate_shipping_cost]\n",
    "    )\n",
    "\n",
    "    # PriorityAgent -> Tools for urgent constraints (theory-of-mind)\n",
    "    priority_agent = create_react_agent(\n",
    "        model=llm_priority,\n",
    "        tools=[check_urgency]\n",
    "    )\n",
    "\n",
    "    return stock_agent, delivery_agent, priority_agent"
   ]
  },
  {
   "cell_type": "code",
   "execution_count": null,
   "metadata": {},
   "outputs": [],
   "source": [
    "def coordinator(user_input: str) -> str:\n",
    "    \"\"\"\n",
    "    A naive function that decides which agent to call\n",
    "    based on keywords in user_input.\n",
    "    \"\"\"\n",
    "    txt_lower = user_input.lower()\n",
    "\n",
    "    if \"stock\" in txt_lower or \"update\" in txt_lower:\n",
    "        return \"stock\"\n",
    "    elif \"delivery\" in txt_lower or \"schedule\" in txt_lower or \"cost\" in txt_lower:\n",
    "        return \"delivery\"\n",
    "    elif \"urgent\" in txt_lower or \"priority\" in txt_lower:\n",
    "        return \"priority\"\n",
    "    else:\n",
    "        return \"none\""
   ]
  },
  {
   "cell_type": "markdown",
   "metadata": {},
   "source": [
    "# Call our agents"
   ]
  },
  {
   "cell_type": "code",
   "execution_count": null,
   "metadata": {},
   "outputs": [],
   "source": [
    "# System messages to each agent\n",
    "SYSTEM_MSG_STOCK = \"\"\"\n",
    "You are the 'StockAgent' in a supply chain system.\n",
    "Call either check_stock(item) or update_stock(item_qty)\n",
    "exactly once based on the user's request. Return tool output only.\n",
    "\"\"\"\n",
    "\n",
    "SYSTEM_MSG_DELIVERY = \"\"\"\n",
    "You are the 'DeliveryAgent' in a supply chain system.\n",
    "Call either schedule_delivery(order_id) or estimate_shipping_cost(args)\n",
    "exactly once based on the user's request. Return tool output only.\n",
    "\"\"\"\n",
    "\n",
    "SYSTEM_MSG_PRIORITY = \"\"\"\n",
    "You are the 'PriorityAgent' in a supply chain system.\n",
    "Call check_urgency(args) exactly once based on the user's request.\n",
    "Return the tool's output only.\n",
    "\"\"\""
   ]
  },
  {
   "cell_type": "code",
   "execution_count": null,
   "metadata": {},
   "outputs": [],
   "source": [
    "# Example user queries\n",
    "user_queries = [\n",
    "    \"Check if widget-a is in stock.\",\n",
    "    \"Update stock: 'widget-b, 50'\",\n",
    "    \"Schedule a delivery for order #12345\",\n",
    "    \"Estimate shipping cost for 'widget-a, distance=250'\",\n",
    "    \"We have urgent=yes, item=widget-b. Please advise.\"\n",
    "]"
   ]
  },
  {
   "cell_type": "markdown",
   "metadata": {},
   "source": [
    "## Example\n",
    "Explain: we will request with each user query above, and check for the tool & the urgent in the query. Then we find a suitable agent to do the query for us"
   ]
  },
  {
   "cell_type": "code",
   "execution_count": null,
   "metadata": {},
   "outputs": [],
   "source": [
    "for idx, query in enumerate(user_queries, start=1):\n",
    "        agent_type = coordinator(query)\n",
    "        if agent_type == \"stock\":\n",
    "            result = stock_agent.invoke(\n",
    "                {\"messages\": [\n",
    "                    {\"role\": \"system\", \"content\": SYSTEM_MSG_STOCK},\n",
    "                    {\"role\": \"user\",   \"content\": query}\n",
    "                ]},\n",
    "                config={\"configurable\": {\"recursion_limit\": 50}}\n",
    "            )\n",
    "            print(f\"\\n--- Query #{idx} (StockAgent) ---\")\n",
    "            print(\"User:\", query)\n",
    "            print(\"Agent Response:\", result[\"messages\"][-1].content)\n",
    "\n",
    "        elif agent_type == \"delivery\":\n",
    "            result = delivery_agent.invoke(\n",
    "                {\"messages\": [\n",
    "                    {\"role\": \"system\", \"content\": SYSTEM_MSG_DELIVERY},\n",
    "                    {\"role\": \"user\",   \"content\": query}\n",
    "                ]},\n",
    "                config={\"configurable\": {\"recursion_limit\": 50}}\n",
    "            )\n",
    "            print(f\"\\n--- Query #{idx} (DeliveryAgent) ---\")\n",
    "            print(\"User:\", query)\n",
    "            print(\"Agent Response:\", result[\"messages\"][-1].content)\n",
    "\n",
    "        elif agent_type == \"priority\":\n",
    "            result = priority_agent.invoke(\n",
    "                {\"messages\": [\n",
    "                    {\"role\": \"system\", \"content\": SYSTEM_MSG_PRIORITY},\n",
    "                    {\"role\": \"user\",   \"content\": query}\n",
    "                ]},\n",
    "                config={\"configurable\": {\"recursion_limit\": 50}}\n",
    "            )\n",
    "            print(f\"\\n--- Query #{idx} (PriorityAgent) ---\")\n",
    "            print(\"User:\", query)\n",
    "            print(\"Agent Response:\", result[\"messages\"][-1].content)\n",
    "\n",
    "        else:\n",
    "            print(f\"\\n--- Query #{idx} (No Agent) ---\")\n",
    "            print(\"User:\", query)\n",
    "            print(\"Agent Response: No suitable agent found.\")"
   ]
  }
 ],
 "metadata": {
  "language_info": {
   "name": "python"
  }
 },
 "nbformat": 4,
 "nbformat_minor": 2
}

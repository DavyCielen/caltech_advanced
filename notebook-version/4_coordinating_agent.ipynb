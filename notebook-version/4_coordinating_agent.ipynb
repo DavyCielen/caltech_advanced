{
 "cells": [
  {
   "cell_type": "markdown",
   "metadata": {},
   "source": [
    "# Import things"
   ]
  },
  {
   "cell_type": "code",
   "execution_count": null,
   "metadata": {},
   "outputs": [],
   "source": [
    "import os\n",
    "import openai\n",
    "\n",
    "from langchain_openai import ChatOpenAI\n",
    "from langgraph.prebuilt import create_react_agent\n",
    "from langchain_core.tools import tool"
   ]
  },
  {
   "cell_type": "code",
   "execution_count": null,
   "metadata": {},
   "outputs": [],
   "source": [
    "# If needed, set your OPENAI_API_KEY in environment for GPT-4o usage:\n",
    "# os.environ[\"OPENAI_API_KEY\"] = \"<YOUR_OPENAI_KEY>\""
   ]
  },
  {
   "cell_type": "code",
   "execution_count": null,
   "metadata": {},
   "outputs": [],
   "source": [
    "# 1. Mock Supply Chain Data\n",
    "WAREHOUSE_STOCK = {\"widget-a\": 20, \"widget-b\": 0, \"widget-c\": 100}\n",
    "OUTBOUND_ORDERS = []"
   ]
  },
  {
   "cell_type": "markdown",
   "metadata": {},
   "source": [
    "# Define Tools"
   ]
  },
  {
   "cell_type": "markdown",
   "metadata": {},
   "source": [
    "## Stock tools"
   ]
  },
  {
   "cell_type": "code",
   "execution_count": null,
   "metadata": {},
   "outputs": [],
   "source": [
    "@tool\n",
    "def check_stock(item: str) -> str:\n",
    "    \"\"\"\n",
    "    Checks the current stock for a single item.\n",
    "\n",
    "    :param item: e.g. \"widget-a\"\n",
    "    :return: A message indicating in-stock or out-of-stock.\n",
    "    \"\"\"\n",
    "    key = item.lower()\n",
    "    qty = WAREHOUSE_STOCK.get(key, 0)\n",
    "    if qty > 0:\n",
    "        return f\"[Stock] '{item}' in stock: {qty} units.\"\n",
    "    else:\n",
    "        return f\"[Stock] '{item}' is out of stock.\""
   ]
  },
  {
   "cell_type": "code",
   "execution_count": null,
   "metadata": {},
   "outputs": [],
   "source": [
    "@tool\n",
    "def update_stock(item_qty: str) -> str:\n",
    "    \"\"\"\n",
    "    Updates warehouse stock by adding quantity.\n",
    "\n",
    "    :param item_qty: e.g. \"widget-b, 50\"\n",
    "    :return: Confirmation or error message.\n",
    "    \"\"\"\n",
    "    try:\n",
    "        it, qty_str = item_qty.split(\",\")\n",
    "        it = it.strip().lower()\n",
    "        qty = int(qty_str.strip())\n",
    "        WAREHOUSE_STOCK[it] = WAREHOUSE_STOCK.get(it, 0) + qty\n",
    "        return f\"[Stock] Successfully added {qty} units of '{it}'.\"\n",
    "    except Exception as e:\n",
    "        return f\"[Stock] Update error: {e}\""
   ]
  },
  {
   "cell_type": "markdown",
   "metadata": {},
   "source": [
    "## Delivery tools"
   ]
  },
  {
   "cell_type": "code",
   "execution_count": null,
   "metadata": {},
   "outputs": [],
   "source": [
    "@tool\n",
    "def schedule_delivery(order_id: str) -> str:\n",
    "    \"\"\"\n",
    "    Schedules a delivery for a given order ID.\n",
    "\n",
    "    :param order_id: e.g. \"#12345\"\n",
    "    :return: A message confirming the scheduled delivery or missing ID.\n",
    "    \"\"\"\n",
    "    if not order_id:\n",
    "        return \"[Delivery] Missing order ID.\"\n",
    "    OUTBOUND_ORDERS.append(order_id)\n",
    "    return f\"[Delivery] Scheduled shipment for order '{order_id}'.\""
   ]
  },
  {
   "cell_type": "code",
   "execution_count": null,
   "metadata": {},
   "outputs": [],
   "source": [
    "@tool\n",
    "def estimate_shipping_cost(args: str) -> str:\n",
    "    \"\"\"\n",
    "    Mock shipping cost estimation. Expects \"widget-a, distance=100\"\n",
    "\n",
    "    :param args: e.g. \"widget-a, distance=100\"\n",
    "    :return: A cost estimate message.\n",
    "    \"\"\"\n",
    "    try:\n",
    "        parts = args.split(\",\")\n",
    "        item_str = parts[0].strip().lower()\n",
    "        dist_info = parts[1].strip().lower()  # e.g. \"distance=100\"\n",
    "        dist_val = int(dist_info.split(\"=\")[1])\n",
    "        cost = dist_val * 0.5\n",
    "        return f\"[Delivery] Cost to ship '{item_str}' {dist_val} km: ${cost:.2f}\"\n",
    "    except Exception as e:\n",
    "        return f\"[Delivery] Cost estimation error: {e}\""
   ]
  },
  {
   "cell_type": "markdown",
   "metadata": {},
   "source": [
    "## Util tools to check for priority"
   ]
  },
  {
   "cell_type": "code",
   "execution_count": null,
   "metadata": {},
   "outputs": [],
   "source": [
    "@tool\n",
    "def check_urgency(args: str) -> str:\n",
    "    \"\"\"\n",
    "    Basic 'theory of mind' for urgent requests.\n",
    "\n",
    "    :param args: e.g. \"urgent=yes, item=widget-b\"\n",
    "    :return: A message describing urgency handling.\n",
    "    \"\"\"\n",
    "    urgent = False\n",
    "    item = None\n",
    "    segments = [seg.strip() for seg in args.split(\",\")]\n",
    "    for seg in segments:\n",
    "        if \"=\" in seg:\n",
    "            k, v = seg.split(\"=\")\n",
    "            if k.strip().lower() == \"urgent\" and v.strip().lower() in (\"yes\", \"true\"):\n",
    "                urgent = True\n",
    "            elif k.strip().lower() == \"item\":\n",
    "                item = v.strip().lower()\n",
    "\n",
    "    if urgent and item:\n",
    "        return (f\"[Priority] The agent with item '{item}' is urgent. \"\n",
    "                \"We should expedite handling or coordinate carefully.\")\n",
    "    else:\n",
    "        return \"[Priority] No special urgency found.\""
   ]
  },
  {
   "cell_type": "markdown",
   "metadata": {},
   "source": [
    "## Tool to agents to cooperate"
   ]
  },
  {
   "cell_type": "code",
   "execution_count": null,
   "metadata": {},
   "outputs": [],
   "source": [
    "@tool\n",
    "def call_stock_agent(query: str) -> str:\n",
    "    \"\"\"\n",
    "    The coordinator calls StockAgent in single-step usage for inventory queries.\n",
    "    \"\"\"\n",
    "    return \"[Coordinator] (No real implementation yet)\""
   ]
  },
  {
   "cell_type": "code",
   "execution_count": null,
   "metadata": {},
   "outputs": [],
   "source": [
    "@tool\n",
    "def call_delivery_agent(query: str) -> str:\n",
    "    \"\"\"\n",
    "    The coordinator calls DeliveryAgent in single-step usage for shipping tasks.\n",
    "    \"\"\"\n",
    "    return \"[Coordinator] (No real implementation yet)\""
   ]
  },
  {
   "cell_type": "code",
   "execution_count": null,
   "metadata": {},
   "outputs": [],
   "source": [
    "@tool\n",
    "def call_priority_agent(query: str) -> str:\n",
    "    \"\"\"\n",
    "    The coordinator calls PriorityAgent in single-step usage for urgent checks.\n",
    "    \"\"\"\n",
    "    return \"[Coordinator] (No real implementation yet)\""
   ]
  },
  {
   "cell_type": "markdown",
   "metadata": {},
   "source": [
    "# Create agents"
   ]
  },
  {
   "cell_type": "code",
   "execution_count": null,
   "metadata": {},
   "outputs": [],
   "source": [
    "# Create the Three Specialized Agents (GPT-4o)\n",
    "\n",
    "def create_specialized_agents():\n",
    "    llm_stock = ChatOpenAI(model=\"gpt-4o\", temperature=0)\n",
    "    llm_delivery = ChatOpenAI(model=\"gpt-4o\", temperature=0)\n",
    "    llm_priority = ChatOpenAI(model=\"gpt-4o\", temperature=0)\n",
    "\n",
    "    # StockAgent\n",
    "    stock_agent = create_react_agent(\n",
    "        model=llm_stock,\n",
    "        tools=[check_stock, update_stock]\n",
    "    )\n",
    "\n",
    "    # DeliveryAgent\n",
    "    delivery_agent = create_react_agent(\n",
    "        model=llm_delivery,\n",
    "        tools=[schedule_delivery, estimate_shipping_cost]\n",
    "    )\n",
    "\n",
    "    # PriorityAgent\n",
    "    priority_agent = create_react_agent(\n",
    "        model=llm_priority,\n",
    "        tools=[check_urgency]\n",
    "    )\n",
    "\n",
    "    return stock_agent, delivery_agent, priority_agent"
   ]
  },
  {
   "cell_type": "code",
   "execution_count": null,
   "metadata": {},
   "outputs": [],
   "source": [
    "# Create the CoordinatingAgent (GPT-4o) that orchestrates sub-calls\n",
    "\n",
    "def create_coordinating_agent():\n",
    "    # We'll do a ReAct agent that can call call_stock_agent, etc.\n",
    "    llm_coord = ChatOpenAI(model=\"gpt-4o\", temperature=0)\n",
    "    coordinating_agent = create_react_agent(\n",
    "        model=llm_coord,\n",
    "        tools=[call_stock_agent, call_delivery_agent, call_priority_agent]\n",
    "    )\n",
    "    return coordinating_agent"
   ]
  },
  {
   "cell_type": "markdown",
   "metadata": {},
   "source": [
    "# Use our agents"
   ]
  },
  {
   "cell_type": "code",
   "execution_count": null,
   "metadata": {},
   "outputs": [],
   "source": [
    "# Create specialized agents (Stock, Delivery, Priority)\n",
    "stock_agent, delivery_agent, priority_agent = create_specialized_agents()\n",
    "\n",
    "# Create the coordinating agent\n",
    "coordinating_agent = create_coordinating_agent()"
   ]
  },
  {
   "cell_type": "code",
   "execution_count": null,
   "metadata": {},
   "outputs": [],
   "source": [
    "def call_stock_agent_impl(query: str) -> str:\n",
    "    \"\"\"\n",
    "    Actually calls StockAgent in single-step usage.\n",
    "    \"\"\"\n",
    "    SYSTEM_MSG_STOCK = \"\"\"\n",
    "    You are the StockAgent. \n",
    "    You have 'check_stock(item)' and 'update_stock(item_qty)'.\n",
    "    Call exactly one of them based on the user's query. Return the tool's output.\n",
    "    \"\"\"\n",
    "    result = stock_agent.invoke(\n",
    "        {\n",
    "            \"messages\": [\n",
    "                {\"role\": \"system\", \"content\": SYSTEM_MSG_STOCK},\n",
    "                {\"role\": \"user\",   \"content\": query}\n",
    "            ]\n",
    "        },\n",
    "        config={\"configurable\": {\"recursion_limit\": 50}}\n",
    "    )\n",
    "    return result[\"messages\"][-1].content"
   ]
  },
  {
   "cell_type": "code",
   "execution_count": null,
   "metadata": {},
   "outputs": [],
   "source": [
    "def call_delivery_agent_impl(query: str) -> str:\n",
    "    \"\"\"\n",
    "    Actually calls DeliveryAgent in single-step usage.\n",
    "    \"\"\"\n",
    "    SYSTEM_MSG_DELIVERY = \"\"\"\n",
    "    You are the DeliveryAgent.\n",
    "    You have 'schedule_delivery(order_id)' and 'estimate_shipping_cost(args)'.\n",
    "    Call one based on user's request. Return the tool's output.\n",
    "    \"\"\"\n",
    "    result = delivery_agent.invoke(\n",
    "        {\n",
    "            \"messages\": [\n",
    "                {\"role\": \"system\", \"content\": SYSTEM_MSG_DELIVERY},\n",
    "                {\"role\": \"user\", \"content\": query}\n",
    "            ]\n",
    "        },\n",
    "        config={\"configurable\": {\"recursion_limit\": 50}}\n",
    "    )\n",
    "    return result[\"messages\"][-1].content"
   ]
  },
  {
   "cell_type": "code",
   "execution_count": null,
   "metadata": {},
   "outputs": [],
   "source": [
    "def call_priority_agent_impl(query: str) -> str:\n",
    "    \"\"\"\n",
    "    Actually calls PriorityAgent in single-step usage.\n",
    "    \"\"\"\n",
    "    SYSTEM_MSG_PRIORITY = \"\"\"\n",
    "    You are the PriorityAgent.\n",
    "    You have 'check_urgency(args)' to handle urgent or priority tasks.\n",
    "    Call it exactly once. Return the tool's output.\n",
    "    \"\"\"\n",
    "    result = priority_agent.invoke(\n",
    "        {\n",
    "            \"messages\": [\n",
    "                {\"role\": \"system\", \"content\": SYSTEM_MSG_PRIORITY},\n",
    "                {\"role\": \"user\", \"content\": query}\n",
    "            ]\n",
    "        },\n",
    "        config={\"configurable\": {\"recursion_limit\": 50}}\n",
    "    )\n",
    "    return result[\"messages\"][-1].content"
   ]
  },
  {
   "cell_type": "code",
   "execution_count": null,
   "metadata": {},
   "outputs": [],
   "source": [
    "# Patch docstrings & function references onto the existing 'call_*' tools\n",
    "call_stock_agent.__doc__ = call_stock_agent_impl.__doc__\n",
    "call_stock_agent.func = call_stock_agent_impl\n",
    "\n",
    "call_delivery_agent.__doc__ = call_delivery_agent_impl.__doc__\n",
    "call_delivery_agent.func = call_delivery_agent_impl\n",
    "\n",
    "call_priority_agent.__doc__ = call_priority_agent_impl.__doc__\n",
    "call_priority_agent.func = call_priority_agent_impl"
   ]
  },
  {
   "cell_type": "code",
   "execution_count": null,
   "metadata": {},
   "outputs": [],
   "source": [
    "# Now the CoordinatingAgent can call these sub-agent tools in sequence if it wants:\n",
    "COORDINATOR_SYSTEM_MSG = \"\"\"\n",
    "You are the CoordinatingAgent for a supply chain. \n",
    "You have:\n",
    "    1) call_stock_agent(query)\n",
    "    2) call_delivery_agent(query)\n",
    "    3) call_priority_agent(query)\n",
    "\n",
    "The user might request multiple steps: \n",
    "    - Checking or updating stock\n",
    "    - Scheduling deliveries\n",
    "    - Checking if something is urgent\n",
    "You can call them in sequence to solve the user's request. \n",
    "Summarize final results for the user. \n",
    "No disclaimers. \n",
    "\"\"\""
   ]
  },
  {
   "cell_type": "markdown",
   "metadata": {},
   "source": [
    "## Example user queries that might need multiple sub-agent calls"
   ]
  },
  {
   "cell_type": "code",
   "execution_count": null,
   "metadata": {},
   "outputs": [],
   "source": [
    "user_queries = [\n",
    "    \"Check if widget-b is in stock, and if out of stock, add 40 units. Then schedule a delivery for order #111.\",\n",
    "    \"We have urgent=yes, item=widget-a. But first see if widget-a is in stock, then estimate shipping cost if it's in stock.\"\n",
    "]\n",
    "\n",
    "for idx, query in enumerate(user_queries, start=1):\n",
    "    result = coordinating_agent.invoke(\n",
    "        {\n",
    "            \"messages\": [\n",
    "                {\"role\": \"system\", \"content\": COORDINATOR_SYSTEM_MSG},\n",
    "                {\"role\": \"user\",   \"content\": query}\n",
    "            ]\n",
    "        },\n",
    "        config={\"configurable\": {\"recursion_limit\": 80}}\n",
    "    )\n",
    "    print(f\"\\n--- CoordinatingAgent Query #{idx} ---\")\n",
    "    print(\"User:\", query)\n",
    "    print(\"Agent Response:\", result[\"messages\"][-1].content)"
   ]
  }
 ],
 "metadata": {
  "language_info": {
   "name": "python"
  }
 },
 "nbformat": 4,
 "nbformat_minor": 2
}

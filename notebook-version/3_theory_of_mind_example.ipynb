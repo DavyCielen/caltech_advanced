{
 "cells": [
  {
   "cell_type": "markdown",
   "metadata": {},
   "source": [
    "# Import things"
   ]
  },
  {
   "cell_type": "code",
   "execution_count": null,
   "metadata": {},
   "outputs": [],
   "source": [
    "import os\n",
    "import openai\n",
    "\n",
    "from langchain_openai import ChatOpenAI\n",
    "from langgraph.prebuilt import create_react_agent\n",
    "# Not using MemorySaver to keep single-turn usage\n",
    "from langchain_core.tools import tool"
   ]
  },
  {
   "cell_type": "code",
   "execution_count": null,
   "metadata": {},
   "outputs": [],
   "source": [
    "# OPTIONAL: set your OpenAI API key if not already in environment:\n",
    "# os.environ[\"OPENAI_API_KEY\"] = \"<YOUR_OPENAI_KEY>\""
   ]
  },
  {
   "cell_type": "code",
   "execution_count": null,
   "metadata": {},
   "outputs": [],
   "source": [
    "# 1. Mock Supply Chain Data\n",
    "WAREHOUSE_STOCK = {\"widget-a\": 20, \"widget-b\": 0, \"widget-c\": 100}\n",
    "OUTBOUND_ORDERS = []"
   ]
  },
  {
   "cell_type": "markdown",
   "metadata": {},
   "source": [
    "# Define Tools\n",
    "Thinks of it like the \"goals\" that we want the agent to do for us. We won't need to hardcode anymore. We just guide the agent to do it for us"
   ]
  },
  {
   "cell_type": "code",
   "execution_count": null,
   "metadata": {},
   "outputs": [],
   "source": [
    "@tool\n",
    "def reactive_check_stock(item: str) -> str:\n",
    "    \"\"\"\n",
    "    Checks the current stock for a single item.\n",
    "    \n",
    "    :param item: Name of the item to check (e.g. \"widget-a\").\n",
    "    :return: A string indicating how many units are in stock or if out of stock.\n",
    "    \"\"\"\n",
    "    key = item.lower()\n",
    "    qty = WAREHOUSE_STOCK.get(key, 0)\n",
    "    if qty > 0:\n",
    "        return f\"[Reactive] '{item}' in stock: {qty} units.\"\n",
    "    else:\n",
    "        return f\"[Reactive] '{item}' is out of stock.\""
   ]
  },
  {
   "cell_type": "code",
   "execution_count": null,
   "metadata": {},
   "outputs": [],
   "source": [
    "@tool\n",
    "def deliberative_schedule(item_qty: str) -> str:\n",
    "    \"\"\"\n",
    "    Attempts to schedule a delivery for 'item, quantity'.\n",
    "    \n",
    "    :param item_qty: A string like \"widget-a, 15\". \n",
    "    :return: A message about scheduling or needing restock.\n",
    "    \"\"\"\n",
    "    try:\n",
    "        item_str, qty_str = item_qty.split(\",\")\n",
    "        item_str = item_str.strip().lower()\n",
    "        qty = int(qty_str.strip())\n",
    "\n",
    "        cur = WAREHOUSE_STOCK.get(item_str, 0)\n",
    "        if cur >= qty:\n",
    "            WAREHOUSE_STOCK[item_str] = cur - qty\n",
    "            OUTBOUND_ORDERS.append((item_str, qty))\n",
    "            return (f\"[Deliberative] Scheduled {qty} of '{item_str}'. \"\n",
    "                    f\"Remaining stock: {WAREHOUSE_STOCK[item_str]}\")\n",
    "        else:\n",
    "            needed = qty - cur\n",
    "            return (f\"[Deliberative] Not enough stock for '{item_str}' \"\n",
    "                    f\"(need {needed} more). Restock required.\")\n",
    "    except Exception as e:\n",
    "        return f\"[Deliberative] Error: {e}\""
   ]
  },
  {
   "cell_type": "code",
   "execution_count": null,
   "metadata": {},
   "outputs": [],
   "source": [
    "@tool\n",
    "def theory_of_mind(agent_input: str) -> str:\n",
    "    \"\"\"\n",
    "    Simulates 'theory-of-mind' logic about urgency.\n",
    "    \n",
    "    :param agent_input: A string like \"urgent=yes, item=widget-b\".\n",
    "    :return: A message about whether the item is urgent or normal.\n",
    "    \"\"\"\n",
    "    urgent = False\n",
    "    item = None\n",
    "    segments = [seg.strip() for seg in agent_input.split(\",\")]\n",
    "    for seg in segments:\n",
    "        if \"=\" in seg:\n",
    "            key, val = seg.split(\"=\")\n",
    "            if key.strip().lower() == \"urgent\" and val.strip().lower() in (\"yes\", \"true\"):\n",
    "                urgent = True\n",
    "            elif key.strip().lower() == \"item\":\n",
    "                item = val.strip().lower()\n",
    "\n",
    "    if urgent and item:\n",
    "        return (f\"[Theory-of-Mind] The other agent treats '{item}' as urgent. \"\n",
    "                \"We should expedite it.\")\n",
    "    else:\n",
    "        return \"[Theory-of-Mind] No special urgency found.\""
   ]
  },
  {
   "cell_type": "markdown",
   "metadata": {},
   "source": [
    "# Create and call our agents"
   ]
  },
  {
   "cell_type": "code",
   "execution_count": null,
   "metadata": {},
   "outputs": [],
   "source": [
    "SYSTEM_MSG = \"\"\"\n",
    "You are a supply chain AI with three tools, each requiring a single string argument:\n",
    "    1) reactive_check_stock(item)\n",
    "    2) deliberative_schedule(item_qty)\n",
    "    3) theory_of_mind(agent_input)\n",
    "\n",
    "Each user query calls EXACTLY ONE tool. \n",
    "- If user wants stock info: reactive_check_stock(\"widget-a\")\n",
    "- If user wants to schedule: deliberative_schedule(\"widget-a, 15\")\n",
    "- If user references urgent or item: theory_of_mind(\"urgent=yes, item=widget-b\")\n",
    "\n",
    "Return only the tool's result. No disclaimers or extra text.\n",
    "\"\"\""
   ]
  },
  {
   "cell_type": "code",
   "execution_count": null,
   "metadata": {},
   "outputs": [],
   "source": [
    "llm = ChatOpenAI(\n",
    "        model=\"gpt-4o\",  # or \"gpt-4\", etc.\n",
    "        temperature=0,\n",
    "        max_tokens=None,\n",
    "        timeout=None,\n",
    "        max_retries=2\n",
    "    )\n",
    "\n",
    "# Single-turn approach\n",
    "agent_app = create_react_agent(\n",
    "    model=llm,\n",
    "    tools=[reactive_check_stock, deliberative_schedule, theory_of_mind]\n",
    ")"
   ]
  },
  {
   "cell_type": "code",
   "execution_count": null,
   "metadata": {},
   "outputs": [],
   "source": [
    "# We'll do single-step queries, each referencing one tool.\n",
    "# No memory, so each is a fresh call.\n",
    "print(\"\\n--- Single-Step 1: Reactive Check Stock ---\")\n",
    "user_query_1 = \"Check if widget-a is in stock.\"\n",
    "result_1 = agent_app.invoke(\n",
    "    {\n",
    "        \"messages\": [\n",
    "            {\"role\": \"system\", \"content\": SYSTEM_MSG},\n",
    "            {\"role\": \"user\", \"content\": user_query_1}\n",
    "        ]\n",
    "    },\n",
    "    config={\n",
    "        \"configurable\": {\n",
    "            \"recursion_limit\": 80\n",
    "        }\n",
    "    }\n",
    ")\n",
    "print(\"AGENT RESPONSE:\", result_1[\"messages\"][-1].content)"
   ]
  },
  {
   "cell_type": "code",
   "execution_count": null,
   "metadata": {},
   "outputs": [],
   "source": [
    "print(\"\\n--- Single-Step 2: Deliberative Schedule ---\")\n",
    "user_query_2 = \"Schedule 'widget-a, 15'\"\n",
    "result_2 = agent_app.invoke(\n",
    "    {\n",
    "        \"messages\": [\n",
    "            {\"role\": \"system\", \"content\": SYSTEM_MSG},\n",
    "            {\"role\": \"user\", \"content\": user_query_2}\n",
    "        ]\n",
    "    },\n",
    "    config={\n",
    "        \"configurable\": {\n",
    "            \"recursion_limit\": 80\n",
    "        }\n",
    "    }\n",
    ")\n",
    "print(\"AGENT RESPONSE:\", result_2[\"messages\"][-1].content)"
   ]
  },
  {
   "cell_type": "code",
   "execution_count": null,
   "metadata": {},
   "outputs": [],
   "source": [
    "print(\"\\n--- Single-Step 3: Theory of Mind ---\")\n",
    "user_query_3 = \"urgent=yes, item=widget-b\"\n",
    "result_3 = agent_app.invoke(\n",
    "    {\n",
    "        \"messages\": [\n",
    "            {\"role\": \"system\", \"content\": SYSTEM_MSG},\n",
    "            {\"role\": \"user\", \"content\": user_query_3}\n",
    "        ]\n",
    "    },\n",
    "    config={\n",
    "        \"configurable\": {\n",
    "            \"recursion_limit\": 80\n",
    "        }\n",
    "    }\n",
    ")\n",
    "print(\"AGENT RESPONSE:\", result_3[\"messages\"][-1].content)"
   ]
  }
 ],
 "metadata": {
  "language_info": {
   "name": "python"
  }
 },
 "nbformat": 4,
 "nbformat_minor": 2
}

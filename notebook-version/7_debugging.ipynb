{
 "cells": [
  {
   "cell_type": "markdown",
   "metadata": {},
   "source": [
    "# Import things"
   ]
  },
  {
   "cell_type": "code",
   "execution_count": null,
   "metadata": {},
   "outputs": [],
   "source": [
    "import os\n",
    "import openai\n",
    "\n",
    "from langchain_openai import ChatOpenAI\n",
    "from langgraph.checkpoint.memory import MemorySaver\n",
    "from langgraph.graph import StateGraph, START, END\n",
    "from typing import TypedDict"
   ]
  },
  {
   "cell_type": "markdown",
   "metadata": {},
   "source": [
    "# Define the state"
   ]
  },
  {
   "cell_type": "code",
   "execution_count": null,
   "metadata": {},
   "outputs": [],
   "source": [
    "class DebugState(TypedDict):\n",
    "    question: str\n",
    "    answer: str"
   ]
  },
  {
   "cell_type": "markdown",
   "metadata": {},
   "source": [
    "# Create node function"
   ]
  },
  {
   "cell_type": "code",
   "execution_count": null,
   "metadata": {},
   "outputs": [],
   "source": [
    "def qa_node(state: DebugState) -> DebugState:\n",
    "    llm = ChatOpenAI(model=\"gpt-3.5-turbo\", temperature=0)\n",
    "    response = llm.invoke([\n",
    "        {\"role\": \"user\", \"content\": state[\"question\"]}\n",
    "    ])\n",
    "    return {\n",
    "        \"question\": state[\"question\"],\n",
    "        \"answer\": response.content\n",
    "    }"
   ]
  },
  {
   "cell_type": "markdown",
   "metadata": {},
   "source": [
    "# Build the graph"
   ]
  },
  {
   "cell_type": "code",
   "execution_count": null,
   "metadata": {},
   "outputs": [],
   "source": [
    "builder = StateGraph(DebugState)\n",
    "builder.add_node(\"qa_node\", qa_node)\n",
    "builder.add_edge(START, \"qa_node\")\n",
    "builder.add_edge(\"qa_node\", END)\n",
    "\n",
    "# We'll set a \"static breakpoint\" after the qa_node executes, for debugging.\n",
    "memory = MemorySaver()\n",
    "graph = builder.compile(\n",
    "    checkpointer=memory,\n",
    "    interrupt_after=[\"qa_node\"]\n",
    ")"
   ]
  },
  {
   "cell_type": "markdown",
   "metadata": {},
   "source": [
    "# Define debug function"
   ]
  },
  {
   "cell_type": "code",
   "execution_count": null,
   "metadata": {},
   "outputs": [],
   "source": [
    "def run_debug():\n",
    "    initial_state = {\"question\": \"what is the shortest shipping route between rotterdam and osaka\", \"answer\": \"\"}\n",
    "    config = {\"configurable\": {\"thread_id\": \"debug_thread\"}}\n",
    "    # 1) The graph runs 'qa_node' and then hits the breakpoint interrupt_after=qa_node\n",
    "    #    so it will pause before going to END\n",
    "    partial_state = graph.invoke(initial_state, config=config)\n",
    "    print(\"Graph paused after 'qa_node'. Let's see the partial state:\")\n",
    "    print(partial_state)\n",
    "\n",
    "    # Now we might manually fix or update the answer\n",
    "    partial_state[\"answer\"] += \" [Debug note: Double-check citations]\"\n",
    "    # 2) Resume from the breakpoint to finalize the graph\n",
    "    final_state = graph.invoke(partial_state, config=config)\n",
    "    print(\"Final State:\", final_state)"
   ]
  },
  {
   "cell_type": "code",
   "execution_count": null,
   "metadata": {},
   "outputs": [],
   "source": [
    "run_debug()"
   ]
  }
 ],
 "metadata": {
  "language_info": {
   "name": "python"
  }
 },
 "nbformat": 4,
 "nbformat_minor": 2
}
